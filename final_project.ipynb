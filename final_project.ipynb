{
 "cells": [
  {
   "cell_type": "code",
   "execution_count": 1,
   "metadata": {},
   "outputs": [],
   "source": [
    "import numpy as np\n",
    "import pandas as pd\n",
    "import matplotlib.pyplot as plt"
   ]
  },
  {
   "cell_type": "code",
   "execution_count": 2,
   "metadata": {},
   "outputs": [
    {
     "name": "stdout",
     "output_type": "stream",
     "text": [
      "              Player  pWins  pLosses  pWOPA  pWORL  eWins  eLosses  eWOPA  \\\n",
      "0       Mookie Betts   22.4     14.2    7.6    9.4   22.1     14.5    6.9   \n",
      "1      J.D. Martinez   19.4     12.6    6.3    8.2   18.5     13.5    4.5   \n",
      "2  Andrew Benintendi   22.6     16.1    6.0    7.9   20.8     17.9    2.3   \n",
      "3    Xander Bogaerts   20.0     14.4    6.1    7.7   18.5     15.9    3.1   \n",
      "4     Jackie Bradley   16.0     13.2    2.7    4.1   15.1     14.1    0.9   \n",
      "\n",
      "   eWORL  Batting eWin        ...          Batting Win Pct.  \\\n",
      "0    8.7          14.8        ...                     0.617   \n",
      "1    6.4          15.3        ...                     0.595   \n",
      "2    4.2          13.3        ...                     0.536   \n",
      "3    4.8          13.1        ...                     0.552   \n",
      "4    2.3           8.7        ...                     0.493   \n",
      "\n",
      "   Baserunning eWins  Baserunning eLoss  Baserunning Win Pct.  Pitching eWins  \\\n",
      "0                1.5                1.0                 0.605             0.0   \n",
      "1                0.9                0.8                 0.544             0.0   \n",
      "2                1.3                1.1                 0.550             0.0   \n",
      "3                1.0                0.8                 0.557             0.0   \n",
      "4                1.0                0.6                 0.629             0.0   \n",
      "\n",
      "   Pitching eLoss  Pitching Win Pct.  Fielding eWins  Fielding eLoss  \\\n",
      "0             0.0                0.0             5.5             4.8   \n",
      "1             0.0                0.0             2.1             2.4   \n",
      "2             0.0                0.0             6.0             5.5   \n",
      "3             0.0                0.0             4.3             4.6   \n",
      "4             0.0                0.0             5.3             4.6   \n",
      "\n",
      "   Fielding Win Pct.  \n",
      "0              0.533  \n",
      "1              0.460  \n",
      "2              0.525  \n",
      "3              0.486  \n",
      "4              0.539  \n",
      "\n",
      "[5 rows x 21 columns]\n"
     ]
    }
   ],
   "source": [
    "# part 1: looking at the best players on the 2018 red sox\n",
    "\n",
    "# first, let's import our data\n",
    "\n",
    "team_wonloss = pd.read_csv('2018 Red Sox Won-Loss Records - Sheet1.csv')\n",
    "print(team_wonloss.head())"
   ]
  },
  {
   "cell_type": "code",
   "execution_count": 3,
   "metadata": {},
   "outputs": [
    {
     "name": "stdout",
     "output_type": "stream",
     "text": [
      "               Player  pWins  pLosses  pWOPA  pWORL  eWins  eLosses  eWOPA  \\\n",
      "0        Mookie Betts   22.4     14.2    7.6    9.4   22.1     14.5    6.9   \n",
      "1       J.D. Martinez   19.4     12.6    6.3    8.2   18.5     13.5    4.5   \n",
      "3     Xander Bogaerts   20.0     14.4    6.1    7.7   18.5     15.9    3.1   \n",
      "2   Andrew Benintendi   22.6     16.1    6.0    7.9   20.8     17.9    2.3   \n",
      "21         Chris Sale   10.3      5.8    4.7    5.9   10.5      5.6    5.2   \n",
      "\n",
      "    eWORL  Batting eWin        ...          Batting Win Pct.  \\\n",
      "0     8.7          14.8        ...                     0.617   \n",
      "1     6.4          15.3        ...                     0.595   \n",
      "3     4.8          13.1        ...                     0.552   \n",
      "2     4.2          13.3        ...                     0.536   \n",
      "21    6.3           0.0        ...                     0.000   \n",
      "\n",
      "    Baserunning eWins  Baserunning eLoss  Baserunning Win Pct.  \\\n",
      "0                 1.5                1.0                 0.605   \n",
      "1                 0.9                0.8                 0.544   \n",
      "3                 1.0                0.8                 0.557   \n",
      "2                 1.3                1.1                 0.550   \n",
      "21                0.0                0.0                 0.000   \n",
      "\n",
      "    Pitching eWins  Pitching eLoss  Pitching Win Pct.  Fielding eWins  \\\n",
      "0              0.0             0.0              0.000             5.5   \n",
      "1              0.0             0.0              0.000             2.1   \n",
      "3              0.0             0.0              0.000             4.3   \n",
      "2              0.0             0.0              0.000             6.0   \n",
      "21             9.9             5.9              0.627             0.2   \n",
      "\n",
      "    Fielding eLoss  Fielding Win Pct.  \n",
      "0              4.8              0.533  \n",
      "1              2.4              0.460  \n",
      "3              4.6              0.486  \n",
      "2              5.5              0.525  \n",
      "21             0.1              0.703  \n",
      "\n",
      "[5 rows x 21 columns]\n"
     ]
    }
   ],
   "source": [
    "# make a set sorted by pWOPA (wins above positional average)\n",
    "\n",
    "top_wins_above_position = team_wonloss.sort_values(by='pWOPA', ascending=False)\n",
    "print(top_wins_above_position.head())"
   ]
  },
  {
   "cell_type": "code",
   "execution_count": 4,
   "metadata": {},
   "outputs": [
    {
     "name": "stdout",
     "output_type": "stream",
     "text": [
      "               Player  pWins  pLosses  pWOPA  pWORL  eWins  eLosses  eWOPA  \\\n",
      "0        Mookie Betts   22.4     14.2    7.6    9.4   22.1     14.5    6.9   \n",
      "1       J.D. Martinez   19.4     12.6    6.3    8.2   18.5     13.5    4.5   \n",
      "2   Andrew Benintendi   22.6     16.1    6.0    7.9   20.8     17.9    2.3   \n",
      "3     Xander Bogaerts   20.0     14.4    6.1    7.7   18.5     15.9    3.1   \n",
      "21         Chris Sale   10.3      5.8    4.7    5.9   10.5      5.6    5.2   \n",
      "\n",
      "    eWORL  Batting eWin        ...          Batting Win Pct.  \\\n",
      "0     8.7          14.8        ...                     0.617   \n",
      "1     6.4          15.3        ...                     0.595   \n",
      "2     4.2          13.3        ...                     0.536   \n",
      "3     4.8          13.1        ...                     0.552   \n",
      "21    6.3           0.0        ...                     0.000   \n",
      "\n",
      "    Baserunning eWins  Baserunning eLoss  Baserunning Win Pct.  \\\n",
      "0                 1.5                1.0                 0.605   \n",
      "1                 0.9                0.8                 0.544   \n",
      "2                 1.3                1.1                 0.550   \n",
      "3                 1.0                0.8                 0.557   \n",
      "21                0.0                0.0                 0.000   \n",
      "\n",
      "    Pitching eWins  Pitching eLoss  Pitching Win Pct.  Fielding eWins  \\\n",
      "0              0.0             0.0              0.000             5.5   \n",
      "1              0.0             0.0              0.000             2.1   \n",
      "2              0.0             0.0              0.000             6.0   \n",
      "3              0.0             0.0              0.000             4.3   \n",
      "21             9.9             5.9              0.627             0.2   \n",
      "\n",
      "    Fielding eLoss  Fielding Win Pct.  \n",
      "0              4.8              0.533  \n",
      "1              2.4              0.460  \n",
      "2              5.5              0.525  \n",
      "3              4.6              0.486  \n",
      "21             0.1              0.703  \n",
      "\n",
      "[5 rows x 21 columns]\n"
     ]
    }
   ],
   "source": [
    "# set sorted by pWORL (wins over replacement level)\n",
    "\n",
    "top_wins_above_replacement = team_wonloss.sort_values(by='pWORL', ascending=False)\n",
    "print(top_wins_above_replacement.head())"
   ]
  },
  {
   "cell_type": "code",
   "execution_count": 5,
   "metadata": {},
   "outputs": [
    {
     "data": {
      "text/plain": [
       "<BarContainer object of 10 artists>"
      ]
     },
     "execution_count": 5,
     "metadata": {},
     "output_type": "execute_result"
    },
    {
     "data": {
      "image/png": "[encoded data removed]",
      "text/plain": [
       "<Figure size 432x288 with 1 Axes>"
      ]
     },
     "metadata": {
      "needs_background": "light"
     },
     "output_type": "display_data"
    }
   ],
   "source": [
    "# the 10 red sox players with the highest pWOPA\n",
    "\n",
    "plt.barh(top_wins_above_position['Player'].head(10), top_wins_above_position['pWOPA'].head(10))"
   ]
  },
  {
   "cell_type": "code",
   "execution_count": 6,
   "metadata": {},
   "outputs": [
    {
     "data": {
      "text/plain": [
       "<BarContainer object of 10 artists>"
      ]
     },
     "execution_count": 6,
     "metadata": {},
     "output_type": "execute_result"
    },
    {
     "data": {
      "image/png": "[encoded data removed]",
      "text/plain": [
       "<Figure size 432x288 with 1 Axes>"
      ]
     },
     "metadata": {
      "needs_background": "light"
     },
     "output_type": "display_data"
    }
   ],
   "source": [
    "# the 10 red sox players with the highest pWORL\n",
    "\n",
    "plt.barh(top_wins_above_replacement['Player'].head(10), top_wins_above_replacement['pWORL'].head(10))"
   ]
  },
  {
   "cell_type": "code",
   "execution_count": 7,
   "metadata": {},
   "outputs": [
    {
     "name": "stdout",
     "output_type": "stream",
     "text": [
      "                Team  Games  Wins  Losses  pWins  pLosses  pWOPA  eWins  \\\n",
      "0     Boston Red Sox    162   108      54    270      216   53.2  254.7   \n",
      "1     Houston Astros    162   103      59    265      221   43.5  255.6   \n",
      "2   New York Yankees    162   100      62    262      224   37.4  253.6   \n",
      "3  Oakland Athletics    162    97      65    259      227   31.3  249.9   \n",
      "4  Cleveland Indians    162    91      71    253      233   19.7  253.0   \n",
      "\n",
      "   eLosses  eWOPA        ...          Baserunning eWin pct.  \\\n",
      "0    231.3   22.9        ...                          0.549   \n",
      "1    230.4   25.1        ...                          0.514   \n",
      "2    232.4   20.9        ...                          0.542   \n",
      "3    236.1   13.6        ...                          0.483   \n",
      "4    233.0   19.5        ...                          0.530   \n",
      "\n",
      "   Baserunning Net eWins  Pitching eWins  Pitching eLosses  \\\n",
      "0                    1.9            83.2              74.1   \n",
      "1                    0.5            86.1              70.7   \n",
      "2                    1.5            85.2              74.1   \n",
      "3                   -0.5            79.5              79.0   \n",
      "4                    1.3            85.7              74.5   \n",
      "\n",
      "   Pitching eWin pct.  Pitching Net eWins  Fielding eWins  Fielding eLosses  \\\n",
      "0               0.529                 9.1            38.9              38.8   \n",
      "1               0.549                15.5            37.6              35.3   \n",
      "2               0.535                11.1            37.1              38.7   \n",
      "3               0.502                 0.5            42.6              39.7   \n",
      "4               0.535                11.2            36.8              37.4   \n",
      "\n",
      "   Fielding eWin pct.  Fielding Net Wins  \n",
      "0               0.501                0.1  \n",
      "1               0.515                2.2  \n",
      "2               0.490               -1.6  \n",
      "3               0.517                2.9  \n",
      "4               0.496               -0.6  \n",
      "\n",
      "[5 rows x 27 columns]\n"
     ]
    }
   ],
   "source": [
    "# part 2: comparing the red sox to the rest of the league in 2018\n",
    "\n",
    "# import data\n",
    "\n",
    "league_wonloss = pd.read_csv('2018 Red Sox Won-Loss Records - Sheet2.csv')\n",
    "print(league_wonloss.head())"
   ]
  },
  {
   "cell_type": "code",
   "execution_count": 8,
   "metadata": {},
   "outputs": [],
   "source": [
    "# in order to make graphs more legible, let's highlight the red sox by adding a column to league_wonloss for graph color\n",
    "\n",
    "league_wonloss.insert(27, \"color\", ['red', 'blue', 'blue', 'blue', 'blue', 'blue', 'blue', 'blue', 'blue', 'blue', 'blue', 'blue', 'blue', 'blue', 'blue'])"
   ]
  },
  {
   "cell_type": "code",
   "execution_count": 9,
   "metadata": {},
   "outputs": [
    {
     "name": "stdout",
     "output_type": "stream",
     "text": [
      "                Team  Games  Wins  Losses  pWins  pLosses  pWOPA  eWins  \\\n",
      "1     Houston Astros    162   103      59    265      221   43.5  255.6   \n",
      "4  Cleveland Indians    162    91      71    253      233   19.7  253.0   \n",
      "2   New York Yankees    162   100      62    262      224   37.4  253.6   \n",
      "0     Boston Red Sox    162   108      54    270      216   53.2  254.7   \n",
      "3  Oakland Athletics    162    97      65    259      227   31.3  249.9   \n",
      "\n",
      "   eLosses  eWOPA  ...    Baserunning Net eWins  Pitching eWins  \\\n",
      "1    230.4   25.1  ...                      0.5            86.1   \n",
      "4    233.0   19.5  ...                      1.3            85.7   \n",
      "2    232.4   20.9  ...                      1.5            85.2   \n",
      "0    231.3   22.9  ...                      1.9            83.2   \n",
      "3    236.1   13.6  ...                     -0.5            79.5   \n",
      "\n",
      "   Pitching eLosses  Pitching eWin pct.  Pitching Net eWins  Fielding eWins  \\\n",
      "1              70.7               0.549                15.5            37.6   \n",
      "4              74.5               0.535                11.2            36.8   \n",
      "2              74.1               0.535                11.1            37.1   \n",
      "0              74.1               0.529                 9.1            38.9   \n",
      "3              79.0               0.502                 0.5            42.6   \n",
      "\n",
      "   Fielding eLosses  Fielding eWin pct.  Fielding Net Wins  color  \n",
      "1              35.3               0.515                2.2   blue  \n",
      "4              37.4               0.496               -0.6   blue  \n",
      "2              38.7               0.490               -1.6   blue  \n",
      "0              38.8               0.501                0.1    red  \n",
      "3              39.7               0.517                2.9   blue  \n",
      "\n",
      "[5 rows x 28 columns]\n"
     ]
    }
   ],
   "source": [
    "# which teams were the best in which categories (batting, baserunning, pitching, fielding)\n",
    "\n",
    "# make a dataframe sorted by batting net eWins\n",
    "\n",
    "league_batting = league_wonloss.sort_values(by='Batting Net eWins')\n",
    "print(league_batting.tail())"
   ]
  },
  {
   "cell_type": "code",
   "execution_count": 10,
   "metadata": {},
   "outputs": [
    {
     "data": {
      "text/plain": [
       "<BarContainer object of 15 artists>"
      ]
     },
     "execution_count": 10,
     "metadata": {},
     "output_type": "execute_result"
    },
    {
     "data": {
      "image/png": "[encoded data removed]",
      "text/plain": [
       "<Figure size 432x288 with 1 Axes>"
      ]
     },
     "metadata": {
      "needs_background": "light"
     },
     "output_type": "display_data"
    }
   ],
   "source": [
    "# graph each team's net batting eWins, highlighting the red sox\n",
    "\n",
    "plt.barh(league_batting['Team'], league_batting['Batting Net eWins'], color=league_batting['color'])"
   ]
  },
  {
   "cell_type": "code",
   "execution_count": 11,
   "metadata": {},
   "outputs": [
    {
     "name": "stdout",
     "output_type": "stream",
     "text": [
      "                Team  Games  Wins  Losses  pWins  pLosses  pWOPA  eWins  \\\n",
      "6   Seattle Mariners    162    89      73    251      235   15.6  243.7   \n",
      "7     Anaheim Angels    162    80      82    242      244   -2.5  243.5   \n",
      "4  Cleveland Indians    162    91      71    253      233   19.7  253.0   \n",
      "2   New York Yankees    162   100      62    262      224   37.4  253.6   \n",
      "0     Boston Red Sox    162   108      54    270      216   53.2  254.7   \n",
      "\n",
      "   eLosses  eWOPA  ...    Baserunning Net eWins  Pitching eWins  \\\n",
      "6    242.3    1.4  ...                      0.9            79.9   \n",
      "7    242.5    0.7  ...                      1.0            81.0   \n",
      "4    233.0   19.5  ...                      1.3            85.7   \n",
      "2    232.4   20.9  ...                      1.5            85.2   \n",
      "0    231.3   22.9  ...                      1.9            83.2   \n",
      "\n",
      "   Pitching eLosses  Pitching eWin pct.  Pitching Net eWins  Fielding eWins  \\\n",
      "6              80.6               0.498                -0.7            41.1   \n",
      "7              84.9               0.488                -3.9            40.4   \n",
      "4              74.5               0.535                11.2            36.8   \n",
      "2              74.1               0.535                11.1            37.1   \n",
      "0              74.1               0.529                 9.1            38.9   \n",
      "\n",
      "   Fielding eLosses  Fielding eWin pct.  Fielding Net Wins  color  \n",
      "6              40.0               0.507                1.1   blue  \n",
      "7              37.3               0.520                3.1   blue  \n",
      "4              37.4               0.496               -0.6   blue  \n",
      "2              38.7               0.490               -1.6   blue  \n",
      "0              38.8               0.501                0.1    red  \n",
      "\n",
      "[5 rows x 28 columns]\n"
     ]
    }
   ],
   "source": [
    "# make a dataframe sorted by baserunning net eWins\n",
    "\n",
    "league_baserunning = league_wonloss.sort_values(by='Baserunning Net eWins')\n",
    "print(league_baserunning.tail())"
   ]
  },
  {
   "cell_type": "code",
   "execution_count": 12,
   "metadata": {},
   "outputs": [
    {
     "data": {
      "text/plain": [
       "<BarContainer object of 15 artists>"
      ]
     },
     "execution_count": 12,
     "metadata": {},
     "output_type": "execute_result"
    },
    {
     "data": {
      "image/png": "[encoded data removed]",
      "text/plain": [
       "<Figure size 432x288 with 1 Axes>"
      ]
     },
     "metadata": {
      "needs_background": "light"
     },
     "output_type": "display_data"
    }
   ],
   "source": [
    "# graph each team's net baserunning eWins, highlighting the red sox\n",
    "\n",
    "plt.barh(league_baserunning['Team'], league_baserunning['Baserunning Net eWins'], color=league_baserunning['color'])"
   ]
  },
  {
   "cell_type": "code",
   "execution_count": 13,
   "metadata": {},
   "outputs": [
    {
     "name": "stdout",
     "output_type": "stream",
     "text": [
      "                Team  Games  Wins  Losses  pWins  pLosses  pWOPA  eWins  \\\n",
      "5     Tampa Bay Rays    162    90      72    252      234   16.7  248.8   \n",
      "0     Boston Red Sox    162   108      54    270      216   53.2  254.7   \n",
      "2   New York Yankees    162   100      62    262      224   37.4  253.6   \n",
      "4  Cleveland Indians    162    91      71    253      233   19.7  253.0   \n",
      "1     Houston Astros    162   103      59    265      221   43.5  255.6   \n",
      "\n",
      "   eLosses  eWOPA  ...    Baserunning Net eWins  Pitching eWins  \\\n",
      "5    237.2   10.9  ...                      0.0            83.3   \n",
      "0    231.3   22.9  ...                      1.9            83.2   \n",
      "2    232.4   20.9  ...                      1.5            85.2   \n",
      "4    233.0   19.5  ...                      1.3            85.7   \n",
      "1    230.4   25.1  ...                      0.5            86.1   \n",
      "\n",
      "   Pitching eLosses  Pitching eWin pct.  Pitching Net eWins  Fielding eWins  \\\n",
      "5              74.5               0.528                 8.8            40.5   \n",
      "0              74.1               0.529                 9.1            38.9   \n",
      "2              74.1               0.535                11.1            37.1   \n",
      "4              74.5               0.535                11.2            36.8   \n",
      "1              70.7               0.549                15.5            37.6   \n",
      "\n",
      "   Fielding eLosses  Fielding eWin pct.  Fielding Net Wins  color  \n",
      "5              38.7               0.511                1.8   blue  \n",
      "0              38.8               0.501                0.1    red  \n",
      "2              38.7               0.490               -1.6   blue  \n",
      "4              37.4               0.496               -0.6   blue  \n",
      "1              35.3               0.515                2.2   blue  \n",
      "\n",
      "[5 rows x 28 columns]\n"
     ]
    }
   ],
   "source": [
    "# make a dataframe sorted by pitching net eWins\n",
    "\n",
    "league_pitching = league_wonloss.sort_values(by='Pitching Net eWins')\n",
    "print(league_pitching.tail())"
   ]
  },
  {
   "cell_type": "code",
   "execution_count": 14,
   "metadata": {},
   "outputs": [
    {
     "data": {
      "text/plain": [
       "<BarContainer object of 15 artists>"
      ]
     },
     "execution_count": 14,
     "metadata": {},
     "output_type": "execute_result"
    },
    {
     "data": {
      "image/png": "[encoded data removed]",
      "text/plain": [
       "<Figure size 432x288 with 1 Axes>"
      ]
     },
     "metadata": {
      "needs_background": "light"
     },
     "output_type": "display_data"
    }
   ],
   "source": [
    "# graph each team's net pitching eWins, highlighting the red sox\n",
    "\n",
    "plt.barh(league_pitching['Team'], league_pitching['Pitching Net eWins'], color=league_pitching['color'])"
   ]
  },
  {
   "cell_type": "code",
   "execution_count": 15,
   "metadata": {},
   "outputs": [
    {
     "name": "stdout",
     "output_type": "stream",
     "text": [
      "                Team  Games  Wins  Losses  pWins  pLosses  pWOPA  eWins  \\\n",
      "6   Seattle Mariners    162    89      73    251      235   15.6  243.7   \n",
      "5     Tampa Bay Rays    162    90      72    252      234   16.7  248.8   \n",
      "1     Houston Astros    162   103      59    265      221   43.5  255.6   \n",
      "3  Oakland Athletics    162    97      65    259      227   31.3  249.9   \n",
      "7     Anaheim Angels    162    80      82    242      244   -2.5  243.5   \n",
      "\n",
      "   eLosses  eWOPA  ...    Baserunning Net eWins  Pitching eWins  \\\n",
      "6    242.3    1.4  ...                      0.9            79.9   \n",
      "5    237.2   10.9  ...                      0.0            83.3   \n",
      "1    230.4   25.1  ...                      0.5            86.1   \n",
      "3    236.1   13.6  ...                     -0.5            79.5   \n",
      "7    242.5    0.7  ...                      1.0            81.0   \n",
      "\n",
      "   Pitching eLosses  Pitching eWin pct.  Pitching Net eWins  Fielding eWins  \\\n",
      "6              80.6               0.498                -0.7            41.1   \n",
      "5              74.5               0.528                 8.8            40.5   \n",
      "1              70.7               0.549                15.5            37.6   \n",
      "3              79.0               0.502                 0.5            42.6   \n",
      "7              84.9               0.488                -3.9            40.4   \n",
      "\n",
      "   Fielding eLosses  Fielding eWin pct.  Fielding Net Wins  color  \n",
      "6              40.0               0.507                1.1   blue  \n",
      "5              38.7               0.511                1.8   blue  \n",
      "1              35.3               0.515                2.2   blue  \n",
      "3              39.7               0.517                2.9   blue  \n",
      "7              37.3               0.520                3.1   blue  \n",
      "\n",
      "[5 rows x 28 columns]\n"
     ]
    }
   ],
   "source": [
    "# make a dataframe sorted by pitching net eWins\n",
    "\n",
    "league_fielding = league_wonloss.sort_values(by='Fielding Net Wins')\n",
    "print(league_fielding.tail())"
   ]
  },
  {
   "cell_type": "code",
   "execution_count": 16,
   "metadata": {},
   "outputs": [
    {
     "data": {
      "text/plain": [
       "<BarContainer object of 15 artists>"
      ]
     },
     "execution_count": 16,
     "metadata": {},
     "output_type": "execute_result"
    },
    {
     "data": {
      "image/png": "[encoded data removed]",
      "text/plain": [
       "<Figure size 432x288 with 1 Axes>"
      ]
     },
     "metadata": {
      "needs_background": "light"
     },
     "output_type": "display_data"
    }
   ],
   "source": [
    "# graph each team's net fielding eWins, highlighting the red sox\n",
    "\n",
    "plt.barh(league_fielding['Team'], league_fielding['Fielding Net Wins'], color=league_fielding['color'])"
   ]
  },
  {
   "cell_type": "code",
   "execution_count": 17,
   "metadata": {},
   "outputs": [],
   "source": [
    "# Part 3: let's compare the red sox to the dodgers in terms of eWins in the postseason and see who was truly the better team\n",
    "\n",
    "# import postseason w/l data for all teams\n",
    "\n",
    "postseason_2018 = pd.read_csv('2018 Red Sox Won-Loss Records - Sheet3.csv')"
   ]
  },
  {
   "cell_type": "code",
   "execution_count": 18,
   "metadata": {},
   "outputs": [],
   "source": [
    "# split the data into red sox (BOS) and dodgers (LAN)\n",
    "\n",
    "redsox_postseason = postseason_2018[postseason_2018['Team'] == 'BOS']\n",
    "\n",
    "dodgers_postseason = postseason_2018[postseason_2018['Team'] == 'LAN']"
   ]
  },
  {
   "cell_type": "code",
   "execution_count": 19,
   "metadata": {},
   "outputs": [
    {
     "name": "stdout",
     "output_type": "stream",
     "text": [
      "              Player Team  Games  pWins  pLosses  pWOPA  pWORL  eWins  \\\n",
      "1        David Price  BOS      6    2.0      1.6    0.5    0.8    1.9   \n",
      "2  Andrew Benintendi  BOS     14    2.0      1.4    0.5    0.7    1.7   \n",
      "5       Mookie Betts  BOS     14    1.9      1.5    0.4    0.6    1.8   \n",
      "6      Steven Pearce  BOS     13    1.9      0.6    1.2    1.4    1.6   \n",
      "9      Rafael Devers  BOS     11    1.7      0.7    0.9    1.0    1.2   \n",
      "\n",
      "   eLosses  eWOPA  eWORL  \n",
      "1      1.8    0.2    0.5  \n",
      "2      1.7   -0.1    0.1  \n",
      "5      1.6    0.1    0.3  \n",
      "6      1.0    0.5    0.7  \n",
      "9      1.2    0.0    0.1  \n"
     ]
    }
   ],
   "source": [
    "print(redsox_postseason.head())"
   ]
  },
  {
   "cell_type": "code",
   "execution_count": 20,
   "metadata": {},
   "outputs": [],
   "source": [
    "# total ewins and elosses for both teams\n",
    "\n",
    "# compare the totals\n",
    "\n",
    "# analyze the totals and find how much better the red sox would have been than the dodgers\n",
    "\n",
    "# each team win = 2 wins, 1 loss\n",
    "# each team loss = 1 win, 2 losses"
   ]
  },
  {
   "cell_type": "code",
   "execution_count": 21,
   "metadata": {},
   "outputs": [],
   "source": [
    "redsox_wins = redsox_postseason['eWins'].sum()\n",
    "redsox_losses = redsox_postseason['eLosses'].sum()\n",
    "dodgers_wins = dodgers_postseason['eWins'].sum()\n",
    "dodgers_losses = dodgers_postseason['eLosses'].sum()"
   ]
  },
  {
   "cell_type": "code",
   "execution_count": 22,
   "metadata": {},
   "outputs": [
    {
     "name": "stdout",
     "output_type": "stream",
     "text": [
      "21.200000000000003 18.7\n",
      "21.700000000000003 21.5\n"
     ]
    }
   ],
   "source": [
    "print(redsox_wins, redsox_losses)\n",
    "print(dodgers_wins, dodgers_losses)"
   ]
  },
  {
   "cell_type": "code",
   "execution_count": 23,
   "metadata": {},
   "outputs": [
    {
     "name": "stdout",
     "output_type": "stream",
     "text": [
      "96.2255639097744\n",
      "65.77443609022549\n",
      "82.125\n",
      "79.87499999999997\n"
     ]
    }
   ],
   "source": [
    "# adjust variables for a 162 game season, reducing the 3 decisions per game down to 1 along the way\n",
    "\n",
    "redsox_est_162_wins = ((redsox_wins * 486) / (redsox_wins + redsox_losses)) - 162\n",
    "redsox_est_162_losses = ((redsox_losses * 486) / (redsox_wins + redsox_losses)) - 162\n",
    "dodgers_est_162_wins = ((dodgers_wins * 486) / (dodgers_wins + dodgers_losses)) - 162\n",
    "dodgers_est_162_losses = ((dodgers_losses * 486) / (dodgers_wins + dodgers_losses)) - 162\n",
    "print(redsox_est_162_wins)\n",
    "print(redsox_est_162_losses)\n",
    "print(dodgers_est_162_wins)\n",
    "print(dodgers_est_162_losses)"
   ]
  },
  {
   "cell_type": "code",
   "execution_count": 24,
   "metadata": {},
   "outputs": [
    {
     "name": "stdout",
     "output_type": "stream",
     "text": [
      "0.5939849624060152 0.5069444444444445\n"
     ]
    }
   ],
   "source": [
    "# win probabilities for each team\n",
    "\n",
    "redsox_win_pct = redsox_est_162_wins / (redsox_est_162_wins + redsox_est_162_losses)\n",
    "dodgers_win_pct = dodgers_est_162_wins / (dodgers_est_162_wins + dodgers_est_162_losses)\n",
    "print(redsox_win_pct, dodgers_win_pct)"
   ]
  },
  {
   "cell_type": "code",
   "execution_count": 25,
   "metadata": {},
   "outputs": [
    {
     "name": "stdout",
     "output_type": "stream",
     "text": [
      "0.5872683488639933\n"
     ]
    }
   ],
   "source": [
    "# use Bill James's log5 equation to calculate the win pct between the two teams\n",
    "\n",
    "redsox_over_dodgers_pct = (redsox_win_pct - redsox_win_pct * dodgers_win_pct) / (redsox_win_pct + dodgers_win_pct - 2 * redsox_win_pct * dodgers_win_pct)\n",
    "print(redsox_over_dodgers_pct)"
   ]
  },
  {
   "cell_type": "code",
   "execution_count": null,
   "metadata": {},
   "outputs": [],
   "source": []
  }
 ],
 "metadata": {
  "kernelspec": {
   "display_name": "Python 3",
   "language": "python",
   "name": "python3"
  },
  "language_info": {
   "codemirror_mode": {
    "name": "ipython",
    "version": 3
   },
   "file_extension": ".py",
   "mimetype": "text/x-python",
   "name": "python",
   "nbconvert_exporter": "python",
   "pygments_lexer": "ipython3",
   "version": "3.6.10"
  }
 },
 "nbformat": 4,
 "nbformat_minor": 2
}
